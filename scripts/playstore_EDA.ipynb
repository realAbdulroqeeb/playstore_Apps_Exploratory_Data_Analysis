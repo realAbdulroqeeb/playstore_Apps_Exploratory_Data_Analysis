{
 "cells": [
  {
   "cell_type": "markdown",
   "id": "7c0538a5-69f4-41d4-a36e-00dee1cec728",
   "metadata": {},
   "source": [
    "***Context***\n",
    "\n",
    "Advertising is a type of marketing communication used to promote or sell products or services. Advertising is usually paid by sponsors and viewed through various media such as websites, apps, emails and other offline communications. Android is the mobile operating system running on Google OS with about 69% of the market share worldwide. The Google Play Store is the Android app store used to install Android Apps.\n",
    "\n",
    "Zoom Ads is an advertising agency that wants to perform an analysis on the data of the google play store. They need to understand the trend of applications available on the google play store so that they can decide to focus on promoting advertisements on particular applications which are trending in the market and can lead to maximum profit. As a Data Analyst, you are required to analyze detailed information on apps in the Google Play Store in order to provide insights on app features and the current state of the Android app market.\n",
    "\n",
    "The dataset provided contains information of over 4000+ apps across different categories along with other useful attributes like Ratings, Reviews etc.\n",
    "\n",
    "\n",
    "Data Description:\n",
    "\n",
    "- App: Application Name\n",
    "- Category: Category the app belongs to (Others category contain apps from various different categories excluded from the dataset)\n",
    "- Rating: Overall user rating of the app\n",
    "- Reviews: Number of user reviews for the app\n",
    "- Size: Size of the app in kilobytes\n",
    "- Installs: Number of user downloads/installs for the app\n",
    "- Paid/Free: Whether an app is paid or free\n",
    "- Price: price of an app in dollars\n",
    "- Content Rating: Age group the app is targeted at\n",
    "- Ad Supported: whether an app supports an Ad or not (Yes/No)\n",
    "- In App Purchases: App containing in app purchase feature or not (Yes/No)\n",
    "- Editors Choice: Whether rated as Editor Choice (Yes/No)"
   ]
  },
  {
   "cell_type": "markdown",
   "id": "bdc8ede6-0db7-4f13-93a9-9ede44c2f932",
   "metadata": {},
   "source": [
    "# IMPORT LIBRARIES"
   ]
  },
  {
   "cell_type": "code",
   "execution_count": 3,
   "id": "82554f65-76b4-49dc-941e-eec85cb27313",
   "metadata": {},
   "outputs": [],
   "source": [
    "import pandas as pd\n",
    "import matplotlib.pyplot as plt\n",
    "import seaborn as sns\n",
    "import numpy as np"
   ]
  },
  {
   "cell_type": "markdown",
   "id": "d92880e0-6a7c-48ff-bb98-749af6ef7c70",
   "metadata": {},
   "source": [
    "## READ DATA"
   ]
  },
  {
   "cell_type": "code",
   "execution_count": 4,
   "id": "a7b3cb99-21b3-4800-9b77-09c130e6fb70",
   "metadata": {},
   "outputs": [],
   "source": [
    "df0 = pd.read_csv(r\"C:\\Users\\User\\Desktop\\python\\Play_Store.csv\")"
   ]
  },
  {
   "cell_type": "code",
   "execution_count": 5,
   "id": "6bc77496-1dfb-484d-a08a-75f4b4e7c859",
   "metadata": {},
   "outputs": [],
   "source": [
    "df = df0.copy() #duplicating the original dataset"
   ]
  },
  {
   "cell_type": "markdown",
   "id": "457d075e-41b7-4a4c-9450-2bd5ff0640b5",
   "metadata": {},
   "source": [
    "## DATA OVERVIEW"
   ]
  },
  {
   "cell_type": "code",
   "execution_count": 6,
   "id": "4cd5f355-35a0-4bfb-a7a4-2b7f54ffb4b8",
   "metadata": {},
   "outputs": [
    {
     "data": {
      "text/html": [
       "<div>\n",
       "<style scoped>\n",
       "    .dataframe tbody tr th:only-of-type {\n",
       "        vertical-align: middle;\n",
       "    }\n",
       "\n",
       "    .dataframe tbody tr th {\n",
       "        vertical-align: top;\n",
       "    }\n",
       "\n",
       "    .dataframe thead th {\n",
       "        text-align: right;\n",
       "    }\n",
       "</style>\n",
       "<table border=\"1\" class=\"dataframe\">\n",
       "  <thead>\n",
       "    <tr style=\"text-align: right;\">\n",
       "      <th></th>\n",
       "      <th>App</th>\n",
       "      <th>Category</th>\n",
       "      <th>Rating</th>\n",
       "      <th>Reviews</th>\n",
       "      <th>Size</th>\n",
       "      <th>Installs</th>\n",
       "      <th>Paid/Free</th>\n",
       "      <th>Price</th>\n",
       "      <th>Content Rating</th>\n",
       "      <th>Ad Supported</th>\n",
       "      <th>In App Purchases</th>\n",
       "      <th>Editors Choice</th>\n",
       "    </tr>\n",
       "  </thead>\n",
       "  <tbody>\n",
       "    <tr>\n",
       "      <th>0</th>\n",
       "      <td>War Dragons</td>\n",
       "      <td>Others</td>\n",
       "      <td>3.9</td>\n",
       "      <td>160604.0</td>\n",
       "      <td>270.0</td>\n",
       "      <td>10000000</td>\n",
       "      <td>Free</td>\n",
       "      <td>0.0</td>\n",
       "      <td>Everyone</td>\n",
       "      <td>Yes</td>\n",
       "      <td>Yes</td>\n",
       "      <td>Yes</td>\n",
       "    </tr>\n",
       "    <tr>\n",
       "      <th>1</th>\n",
       "      <td>CV-Library Job Search</td>\n",
       "      <td>BUSINESS</td>\n",
       "      <td>4.4</td>\n",
       "      <td>NaN</td>\n",
       "      <td>46.0</td>\n",
       "      <td>100000</td>\n",
       "      <td>Free</td>\n",
       "      <td>0.0</td>\n",
       "      <td>Everyone</td>\n",
       "      <td>No</td>\n",
       "      <td>No</td>\n",
       "      <td>No</td>\n",
       "    </tr>\n",
       "    <tr>\n",
       "      <th>2</th>\n",
       "      <td>Surah Al-Waqiah</td>\n",
       "      <td>BOOKS_AND_REFERENCE</td>\n",
       "      <td>NaN</td>\n",
       "      <td>1201.0</td>\n",
       "      <td>29.0</td>\n",
       "      <td>100000</td>\n",
       "      <td>Free</td>\n",
       "      <td>0.0</td>\n",
       "      <td>Everyone</td>\n",
       "      <td>Yes</td>\n",
       "      <td>No</td>\n",
       "      <td>No</td>\n",
       "    </tr>\n",
       "    <tr>\n",
       "      <th>3</th>\n",
       "      <td>Ay</td>\n",
       "      <td>Others</td>\n",
       "      <td>2.5</td>\n",
       "      <td>11.0</td>\n",
       "      <td>36.0</td>\n",
       "      <td>5000</td>\n",
       "      <td>Free</td>\n",
       "      <td>0.0</td>\n",
       "      <td>Teen</td>\n",
       "      <td>Yes</td>\n",
       "      <td>No</td>\n",
       "      <td>No</td>\n",
       "    </tr>\n",
       "    <tr>\n",
       "      <th>4</th>\n",
       "      <td>EA Plus</td>\n",
       "      <td>Others</td>\n",
       "      <td>NaN</td>\n",
       "      <td>12.0</td>\n",
       "      <td>12.0</td>\n",
       "      <td>1000</td>\n",
       "      <td>Free</td>\n",
       "      <td>0.0</td>\n",
       "      <td>Everyone</td>\n",
       "      <td>No</td>\n",
       "      <td>No</td>\n",
       "      <td>No</td>\n",
       "    </tr>\n",
       "  </tbody>\n",
       "</table>\n",
       "</div>"
      ],
      "text/plain": [
       "                     App             Category  Rating   Reviews   Size  \\\n",
       "0            War Dragons               Others     3.9  160604.0  270.0   \n",
       "1  CV-Library Job Search             BUSINESS     4.4       NaN   46.0   \n",
       "2        Surah Al-Waqiah  BOOKS_AND_REFERENCE     NaN    1201.0   29.0   \n",
       "3                     Ay               Others     2.5      11.0   36.0   \n",
       "4                EA Plus               Others     NaN      12.0   12.0   \n",
       "\n",
       "   Installs Paid/Free  Price Content Rating Ad Supported In App Purchases  \\\n",
       "0  10000000      Free    0.0       Everyone          Yes              Yes   \n",
       "1    100000      Free    0.0       Everyone           No               No   \n",
       "2    100000      Free    0.0       Everyone          Yes               No   \n",
       "3      5000      Free    0.0           Teen          Yes               No   \n",
       "4      1000      Free    0.0       Everyone           No               No   \n",
       "\n",
       "  Editors Choice  \n",
       "0            Yes  \n",
       "1             No  \n",
       "2             No  \n",
       "3             No  \n",
       "4             No  "
      ]
     },
     "execution_count": 6,
     "metadata": {},
     "output_type": "execute_result"
    }
   ],
   "source": [
    "df.head()"
   ]
  },
  {
   "cell_type": "code",
   "execution_count": 7,
   "id": "94d52ad3-edd9-4930-9ac4-8d07ea1d8b2f",
   "metadata": {},
   "outputs": [
    {
     "name": "stdout",
     "output_type": "stream",
     "text": [
      "<class 'pandas.core.frame.DataFrame'>\n",
      "RangeIndex: 4153 entries, 0 to 4152\n",
      "Data columns (total 12 columns):\n",
      " #   Column            Non-Null Count  Dtype  \n",
      "---  ------            --------------  -----  \n",
      " 0   App               4153 non-null   object \n",
      " 1   Category          4153 non-null   object \n",
      " 2   Rating            3976 non-null   float64\n",
      " 3   Reviews           4029 non-null   float64\n",
      " 4   Size              4153 non-null   float64\n",
      " 5   Installs          4153 non-null   int64  \n",
      " 6   Paid/Free         4153 non-null   object \n",
      " 7   Price             4153 non-null   float64\n",
      " 8   Content Rating    4153 non-null   object \n",
      " 9   Ad Supported      4153 non-null   object \n",
      " 10  In App Purchases  4153 non-null   object \n",
      " 11  Editors Choice    4153 non-null   object \n",
      "dtypes: float64(4), int64(1), object(7)\n",
      "memory usage: 389.5+ KB\n"
     ]
    }
   ],
   "source": [
    "df.info() #The summary of the dataset"
   ]
  },
  {
   "cell_type": "code",
   "execution_count": 8,
   "id": "85a50d96-3669-4af2-8730-2ae49c25a207",
   "metadata": {},
   "outputs": [
    {
     "data": {
      "text/plain": [
       "(4153, 12)"
      ]
     },
     "execution_count": 8,
     "metadata": {},
     "output_type": "execute_result"
    }
   ],
   "source": [
    "df.shape #deriving the number of rows and columns in the dataset"
   ]
  },
  {
   "cell_type": "code",
   "execution_count": 9,
   "id": "555f0bc5-742a-48a9-a0ac-88e47aa048d1",
   "metadata": {},
   "outputs": [
    {
     "data": {
      "text/plain": [
       "App                   0\n",
       "Category              0\n",
       "Rating              177\n",
       "Reviews             124\n",
       "Size                  0\n",
       "Installs              0\n",
       "Paid/Free             0\n",
       "Price                 0\n",
       "Content Rating        0\n",
       "Ad Supported          0\n",
       "In App Purchases      0\n",
       "Editors Choice        0\n",
       "dtype: int64"
      ]
     },
     "execution_count": 9,
     "metadata": {},
     "output_type": "execute_result"
    }
   ],
   "source": [
    "df.isnull().sum() #Checkking for missing values in each columns"
   ]
  },
  {
   "cell_type": "code",
   "execution_count": 10,
   "id": "714f394d-f6ed-4ee1-ba1b-a3bd5affe3cf",
   "metadata": {},
   "outputs": [
    {
     "data": {
      "text/plain": [
       "np.int64(0)"
      ]
     },
     "execution_count": 10,
     "metadata": {},
     "output_type": "execute_result"
    }
   ],
   "source": [
    "df.duplicated().sum()"
   ]
  },
  {
   "cell_type": "code",
   "execution_count": 120,
   "id": "decf173a-e4a1-4505-961d-46b83c893aa1",
   "metadata": {},
   "outputs": [
    {
     "data": {
      "text/html": [
       "<div>\n",
       "<style scoped>\n",
       "    .dataframe tbody tr th:only-of-type {\n",
       "        vertical-align: middle;\n",
       "    }\n",
       "\n",
       "    .dataframe tbody tr th {\n",
       "        vertical-align: top;\n",
       "    }\n",
       "\n",
       "    .dataframe thead th {\n",
       "        text-align: right;\n",
       "    }\n",
       "</style>\n",
       "<table border=\"1\" class=\"dataframe\">\n",
       "  <thead>\n",
       "    <tr style=\"text-align: right;\">\n",
       "      <th></th>\n",
       "      <th>Rating</th>\n",
       "      <th>Reviews</th>\n",
       "      <th>Size</th>\n",
       "      <th>Installs</th>\n",
       "      <th>Price</th>\n",
       "    </tr>\n",
       "  </thead>\n",
       "  <tbody>\n",
       "    <tr>\n",
       "      <th>count</th>\n",
       "      <td>4153.000000</td>\n",
       "      <td>4153.000000</td>\n",
       "      <td>4153.000000</td>\n",
       "      <td>4.153000e+03</td>\n",
       "      <td>4153.000000</td>\n",
       "    </tr>\n",
       "    <tr>\n",
       "      <th>mean</th>\n",
       "      <td>4.193222</td>\n",
       "      <td>65484.571635</td>\n",
       "      <td>82.254408</td>\n",
       "      <td>3.232706e+06</td>\n",
       "      <td>0.565341</td>\n",
       "    </tr>\n",
       "    <tr>\n",
       "      <th>std</th>\n",
       "      <td>0.509128</td>\n",
       "      <td>106202.610297</td>\n",
       "      <td>92.256334</td>\n",
       "      <td>5.421343e+06</td>\n",
       "      <td>8.926313</td>\n",
       "    </tr>\n",
       "    <tr>\n",
       "      <th>min</th>\n",
       "      <td>1.000000</td>\n",
       "      <td>1.000000</td>\n",
       "      <td>0.011000</td>\n",
       "      <td>1.000000e+00</td>\n",
       "      <td>0.000000</td>\n",
       "    </tr>\n",
       "    <tr>\n",
       "      <th>25%</th>\n",
       "      <td>4.000000</td>\n",
       "      <td>244.000000</td>\n",
       "      <td>22.000000</td>\n",
       "      <td>1.000000e+04</td>\n",
       "      <td>0.000000</td>\n",
       "    </tr>\n",
       "    <tr>\n",
       "      <th>50%</th>\n",
       "      <td>4.300000</td>\n",
       "      <td>7573.000000</td>\n",
       "      <td>42.000000</td>\n",
       "      <td>5.000000e+05</td>\n",
       "      <td>0.000000</td>\n",
       "    </tr>\n",
       "    <tr>\n",
       "      <th>75%</th>\n",
       "      <td>4.500000</td>\n",
       "      <td>71432.000000</td>\n",
       "      <td>84.000000</td>\n",
       "      <td>5.000000e+06</td>\n",
       "      <td>0.000000</td>\n",
       "    </tr>\n",
       "    <tr>\n",
       "      <th>max</th>\n",
       "      <td>5.000000</td>\n",
       "      <td>312204.000000</td>\n",
       "      <td>270.000000</td>\n",
       "      <td>1.997000e+07</td>\n",
       "      <td>399.990000</td>\n",
       "    </tr>\n",
       "  </tbody>\n",
       "</table>\n",
       "</div>"
      ],
      "text/plain": [
       "            Rating        Reviews         Size      Installs        Price\n",
       "count  4153.000000    4153.000000  4153.000000  4.153000e+03  4153.000000\n",
       "mean      4.193222   65484.571635    82.254408  3.232706e+06     0.565341\n",
       "std       0.509128  106202.610297    92.256334  5.421343e+06     8.926313\n",
       "min       1.000000       1.000000     0.011000  1.000000e+00     0.000000\n",
       "25%       4.000000     244.000000    22.000000  1.000000e+04     0.000000\n",
       "50%       4.300000    7573.000000    42.000000  5.000000e+05     0.000000\n",
       "75%       4.500000   71432.000000    84.000000  5.000000e+06     0.000000\n",
       "max       5.000000  312204.000000   270.000000  1.997000e+07   399.990000"
      ]
     },
     "execution_count": 120,
     "metadata": {},
     "output_type": "execute_result"
    }
   ],
   "source": [
    "df.describe() #statistical summary of the dataset"
   ]
  },
  {
   "cell_type": "code",
   "execution_count": 12,
   "id": "8e759b2e-74bb-42d8-8b8f-292c1c970009",
   "metadata": {},
   "outputs": [
    {
     "data": {
      "text/plain": [
       "App                  object\n",
       "Category             object\n",
       "Rating              float64\n",
       "Reviews             float64\n",
       "Size                float64\n",
       "Installs              int64\n",
       "Paid/Free            object\n",
       "Price               float64\n",
       "Content Rating       object\n",
       "Ad Supported         object\n",
       "In App Purchases     object\n",
       "Editors Choice       object\n",
       "dtype: object"
      ]
     },
     "execution_count": 12,
     "metadata": {},
     "output_type": "execute_result"
    }
   ],
   "source": [
    "df.dtypes #Checking out the data types"
   ]
  },
  {
   "cell_type": "markdown",
   "id": "44074b63-e6a4-414f-bfa2-b6a6ad72b387",
   "metadata": {},
   "source": [
    "# DATA CLEANING"
   ]
  },
  {
   "cell_type": "code",
   "execution_count": 13,
   "id": "25d5d1e3-255a-438e-a128-e027f71da3a2",
   "metadata": {},
   "outputs": [
    {
     "data": {
      "text/plain": [
       "np.int64(0)"
      ]
     },
     "execution_count": 13,
     "metadata": {},
     "output_type": "execute_result"
    }
   ],
   "source": [
    "df.duplicated().sum()"
   ]
  },
  {
   "cell_type": "markdown",
   "id": "8ff6747a-eb92-4dcf-8a6d-6e12fd3e8508",
   "metadata": {},
   "source": [
    "- There are no duplicates in the dataset"
   ]
  },
  {
   "cell_type": "code",
   "execution_count": 121,
   "id": "9e5959f9-5ddb-46b9-a142-06aba49b0e4f",
   "metadata": {},
   "outputs": [
    {
     "data": {
      "text/plain": [
       "App                 0\n",
       "Category            0\n",
       "Rating              0\n",
       "Reviews             0\n",
       "Size                0\n",
       "Installs            0\n",
       "Paid/Free           0\n",
       "Price               0\n",
       "Content Rating      0\n",
       "Ad Supported        0\n",
       "In App Purchases    0\n",
       "Editors Choice      0\n",
       "dtype: int64"
      ]
     },
     "execution_count": 121,
     "metadata": {},
     "output_type": "execute_result"
    }
   ],
   "source": [
    "df.isna().sum()"
   ]
  },
  {
   "cell_type": "code",
   "execution_count": 15,
   "id": "394377ad-a069-435f-a12b-5ab6326b8ccf",
   "metadata": {},
   "outputs": [
    {
     "data": {
      "text/plain": [
       "207.65"
      ]
     },
     "execution_count": 15,
     "metadata": {},
     "output_type": "execute_result"
    }
   ],
   "source": [
    "#Considering dropping the missing values if they are equal or less than 5% threshold\n",
    "threshold =len(df)*0.05\n",
    "threshold "
   ]
  },
  {
   "cell_type": "code",
   "execution_count": 16,
   "id": "065c2cf6-e635-4a19-8e91-ddd5e163a8df",
   "metadata": {},
   "outputs": [
    {
     "name": "stdout",
     "output_type": "stream",
     "text": [
      "Index(['App', 'Category', 'Size', 'Installs', 'Paid/Free', 'Price',\n",
      "       'Content Rating', 'Ad Supported', 'In App Purchases', 'Editors Choice'],\n",
      "      dtype='object')\n"
     ]
    }
   ],
   "source": [
    "cols_to_drop = df.columns[df.isna().sum() <= 0.05]\n",
    "print(cols_to_drop)"
   ]
  },
  {
   "cell_type": "code",
   "execution_count": 17,
   "id": "18ebe6bd-7d48-4d13-8540-365bb06f2e5d",
   "metadata": {},
   "outputs": [],
   "source": [
    "df.dropna(subset = cols_to_drop,inplace = True)"
   ]
  },
  {
   "cell_type": "code",
   "execution_count": 18,
   "id": "cbecc96c-c35e-4c0a-9dfd-c8ad24b96167",
   "metadata": {},
   "outputs": [
    {
     "data": {
      "text/plain": [
       "App                   0\n",
       "Category              0\n",
       "Rating              177\n",
       "Reviews             124\n",
       "Size                  0\n",
       "Installs              0\n",
       "Paid/Free             0\n",
       "Price                 0\n",
       "Content Rating        0\n",
       "Ad Supported          0\n",
       "In App Purchases      0\n",
       "Editors Choice        0\n",
       "dtype: int64"
      ]
     },
     "execution_count": 18,
     "metadata": {},
     "output_type": "execute_result"
    }
   ],
   "source": [
    "df.isna().sum()"
   ]
  },
  {
   "cell_type": "code",
   "execution_count": 19,
   "id": "5cf83b46-25ad-4a01-98e9-6c17fb50201c",
   "metadata": {},
   "outputs": [
    {
     "data": {
      "text/html": [
       "<div>\n",
       "<style scoped>\n",
       "    .dataframe tbody tr th:only-of-type {\n",
       "        vertical-align: middle;\n",
       "    }\n",
       "\n",
       "    .dataframe tbody tr th {\n",
       "        vertical-align: top;\n",
       "    }\n",
       "\n",
       "    .dataframe thead th {\n",
       "        text-align: right;\n",
       "    }\n",
       "</style>\n",
       "<table border=\"1\" class=\"dataframe\">\n",
       "  <thead>\n",
       "    <tr style=\"text-align: right;\">\n",
       "      <th></th>\n",
       "      <th>App</th>\n",
       "      <th>Category</th>\n",
       "      <th>Rating</th>\n",
       "      <th>Reviews</th>\n",
       "      <th>Size</th>\n",
       "      <th>Installs</th>\n",
       "      <th>Paid/Free</th>\n",
       "      <th>Price</th>\n",
       "      <th>Content Rating</th>\n",
       "      <th>Ad Supported</th>\n",
       "      <th>In App Purchases</th>\n",
       "      <th>Editors Choice</th>\n",
       "    </tr>\n",
       "  </thead>\n",
       "  <tbody>\n",
       "    <tr>\n",
       "      <th>0</th>\n",
       "      <td>War Dragons</td>\n",
       "      <td>Others</td>\n",
       "      <td>3.9</td>\n",
       "      <td>160604.0</td>\n",
       "      <td>270.0</td>\n",
       "      <td>10000000</td>\n",
       "      <td>Free</td>\n",
       "      <td>0.0</td>\n",
       "      <td>Everyone</td>\n",
       "      <td>Yes</td>\n",
       "      <td>Yes</td>\n",
       "      <td>Yes</td>\n",
       "    </tr>\n",
       "    <tr>\n",
       "      <th>1</th>\n",
       "      <td>CV-Library Job Search</td>\n",
       "      <td>BUSINESS</td>\n",
       "      <td>4.4</td>\n",
       "      <td>NaN</td>\n",
       "      <td>46.0</td>\n",
       "      <td>100000</td>\n",
       "      <td>Free</td>\n",
       "      <td>0.0</td>\n",
       "      <td>Everyone</td>\n",
       "      <td>No</td>\n",
       "      <td>No</td>\n",
       "      <td>No</td>\n",
       "    </tr>\n",
       "    <tr>\n",
       "      <th>2</th>\n",
       "      <td>Surah Al-Waqiah</td>\n",
       "      <td>BOOKS_AND_REFERENCE</td>\n",
       "      <td>NaN</td>\n",
       "      <td>1201.0</td>\n",
       "      <td>29.0</td>\n",
       "      <td>100000</td>\n",
       "      <td>Free</td>\n",
       "      <td>0.0</td>\n",
       "      <td>Everyone</td>\n",
       "      <td>Yes</td>\n",
       "      <td>No</td>\n",
       "      <td>No</td>\n",
       "    </tr>\n",
       "    <tr>\n",
       "      <th>3</th>\n",
       "      <td>Ay</td>\n",
       "      <td>Others</td>\n",
       "      <td>2.5</td>\n",
       "      <td>11.0</td>\n",
       "      <td>36.0</td>\n",
       "      <td>5000</td>\n",
       "      <td>Free</td>\n",
       "      <td>0.0</td>\n",
       "      <td>Teen</td>\n",
       "      <td>Yes</td>\n",
       "      <td>No</td>\n",
       "      <td>No</td>\n",
       "    </tr>\n",
       "    <tr>\n",
       "      <th>4</th>\n",
       "      <td>EA Plus</td>\n",
       "      <td>Others</td>\n",
       "      <td>NaN</td>\n",
       "      <td>12.0</td>\n",
       "      <td>12.0</td>\n",
       "      <td>1000</td>\n",
       "      <td>Free</td>\n",
       "      <td>0.0</td>\n",
       "      <td>Everyone</td>\n",
       "      <td>No</td>\n",
       "      <td>No</td>\n",
       "      <td>No</td>\n",
       "    </tr>\n",
       "  </tbody>\n",
       "</table>\n",
       "</div>"
      ],
      "text/plain": [
       "                     App             Category  Rating   Reviews   Size  \\\n",
       "0            War Dragons               Others     3.9  160604.0  270.0   \n",
       "1  CV-Library Job Search             BUSINESS     4.4       NaN   46.0   \n",
       "2        Surah Al-Waqiah  BOOKS_AND_REFERENCE     NaN    1201.0   29.0   \n",
       "3                     Ay               Others     2.5      11.0   36.0   \n",
       "4                EA Plus               Others     NaN      12.0   12.0   \n",
       "\n",
       "   Installs Paid/Free  Price Content Rating Ad Supported In App Purchases  \\\n",
       "0  10000000      Free    0.0       Everyone          Yes              Yes   \n",
       "1    100000      Free    0.0       Everyone           No               No   \n",
       "2    100000      Free    0.0       Everyone          Yes               No   \n",
       "3      5000      Free    0.0           Teen          Yes               No   \n",
       "4      1000      Free    0.0       Everyone           No               No   \n",
       "\n",
       "  Editors Choice  \n",
       "0            Yes  \n",
       "1             No  \n",
       "2             No  \n",
       "3             No  \n",
       "4             No  "
      ]
     },
     "execution_count": 19,
     "metadata": {},
     "output_type": "execute_result"
    }
   ],
   "source": [
    "df.head()"
   ]
  },
  {
   "cell_type": "code",
   "execution_count": 122,
   "id": "33ed4204-c832-4565-97d3-ea20ebdc5d41",
   "metadata": {},
   "outputs": [
    {
     "name": "stdout",
     "output_type": "stream",
     "text": [
      "{'BOOKS_AND_REFERENCE': 4.4, 'BUSINESS': 4.3, 'COMMUNICATION': 4.05, 'FAMILY': 4.3, 'FINANCE': 4.3, 'GAME': 4.3, 'HEALTH_AND_FITNESS': 4.5, 'LIFESTYLE': 4.3, 'MEDICAL': 4.3, 'Others': 4.3, 'PERSONALIZATION': 4.3, 'PHOTOGRAPHY': 4.2, 'PRODUCTIVITY': 4.2, 'SPORTS': 4.3, 'TOOLS': 4.1}\n"
     ]
    },
    {
     "name": "stderr",
     "output_type": "stream",
     "text": [
      "C:\\Users\\User\\AppData\\Local\\Temp\\ipykernel_2496\\3108446740.py:2: FutureWarning: The default of observed=False is deprecated and will be changed to True in a future version of pandas. Pass observed=False to retain current behavior or observed=True to adopt the future default and silence this warning.\n",
      "  rating_dict = df.groupby('Category')['Rating'].median().to_dict()\n"
     ]
    }
   ],
   "source": [
    "#Correcting the missing values using one of the measure of centre\n",
    "rating_dict = df.groupby('Category')['Rating'].median().to_dict()\n",
    "print(rating_dict)"
   ]
  },
  {
   "cell_type": "code",
   "execution_count": 21,
   "id": "21d87863-a365-41de-a0e6-0ca20955e702",
   "metadata": {},
   "outputs": [],
   "source": [
    "df['Rating'] = df['Rating'].fillna(df['Category'].map(rating_dict))"
   ]
  },
  {
   "cell_type": "code",
   "execution_count": 22,
   "id": "af274f9c-25fb-4b4c-b698-a46ee1668f5f",
   "metadata": {},
   "outputs": [],
   "source": [
    "rating_dict = df.groupby('Category')['Reviews'].median().to_dict()"
   ]
  },
  {
   "cell_type": "code",
   "execution_count": 23,
   "id": "bb152ca8-b0a5-4ce9-9682-f8f09a44f46a",
   "metadata": {},
   "outputs": [],
   "source": [
    "review_dict = df.groupby('Category')['Reviews'].median().to_dict()"
   ]
  },
  {
   "cell_type": "code",
   "execution_count": 24,
   "id": "573fbd2e-2b73-49e2-9341-bd4d19b06371",
   "metadata": {},
   "outputs": [
    {
     "name": "stdout",
     "output_type": "stream",
     "text": [
      "{'BOOKS_AND_REFERENCE': 1777.5, 'BUSINESS': 125.0, 'COMMUNICATION': 3647.0, 'FAMILY': 2354.5, 'FINANCE': 802.5, 'GAME': 70568.0, 'HEALTH_AND_FITNESS': 8546.0, 'LIFESTYLE': 421.5, 'MEDICAL': 98.5, 'Others': 22804.0, 'PERSONALIZATION': 3175.0, 'PHOTOGRAPHY': 25678.0, 'PRODUCTIVITY': 2537.0, 'SPORTS': 25172.0, 'TOOLS': 657.0}\n"
     ]
    }
   ],
   "source": [
    "print(review_dict)"
   ]
  },
  {
   "cell_type": "code",
   "execution_count": 25,
   "id": "7e7d4142-c869-48a5-ad6f-aeeb3a317135",
   "metadata": {},
   "outputs": [],
   "source": [
    "df['Reviews'] = df['Reviews'].fillna(df['Category'].map(review_dict))"
   ]
  },
  {
   "cell_type": "code",
   "execution_count": 26,
   "id": "e86dbc49-22be-4f10-bc00-b9bb77d33e39",
   "metadata": {},
   "outputs": [
    {
     "data": {
      "text/plain": [
       "App                 0\n",
       "Category            0\n",
       "Rating              0\n",
       "Reviews             0\n",
       "Size                0\n",
       "Installs            0\n",
       "Paid/Free           0\n",
       "Price               0\n",
       "Content Rating      0\n",
       "Ad Supported        0\n",
       "In App Purchases    0\n",
       "Editors Choice      0\n",
       "dtype: int64"
      ]
     },
     "execution_count": 26,
     "metadata": {},
     "output_type": "execute_result"
    }
   ],
   "source": [
    "df.isna().sum()"
   ]
  },
  {
   "cell_type": "code",
   "execution_count": 27,
   "id": "230b394d-b22d-42ae-8566-47d8aded0ed9",
   "metadata": {},
   "outputs": [
    {
     "data": {
      "text/plain": [
       "App                  object\n",
       "Category             object\n",
       "Rating              float64\n",
       "Reviews             float64\n",
       "Size                float64\n",
       "Installs              int64\n",
       "Paid/Free            object\n",
       "Price               float64\n",
       "Content Rating       object\n",
       "Ad Supported         object\n",
       "In App Purchases     object\n",
       "Editors Choice       object\n",
       "dtype: object"
      ]
     },
     "execution_count": 27,
     "metadata": {},
     "output_type": "execute_result"
    }
   ],
   "source": [
    "df.dtypes"
   ]
  },
  {
   "cell_type": "code",
   "execution_count": 28,
   "id": "863cbae1-4b8e-4c4c-b04d-6014f0f7251e",
   "metadata": {},
   "outputs": [],
   "source": [
    "columns = df.select_dtypes(include='object').columns\n",
    "for col in columns:\n",
    "    df[col] = df[col].astype('category')"
   ]
  },
  {
   "cell_type": "code",
   "execution_count": 29,
   "id": "7c4d57d5-cdd2-458d-8226-82dfe8162a6f",
   "metadata": {},
   "outputs": [
    {
     "data": {
      "text/plain": [
       "App                 category\n",
       "Category            category\n",
       "Rating               float64\n",
       "Reviews              float64\n",
       "Size                 float64\n",
       "Installs               int64\n",
       "Paid/Free           category\n",
       "Price                float64\n",
       "Content Rating      category\n",
       "Ad Supported        category\n",
       "In App Purchases    category\n",
       "Editors Choice      category\n",
       "dtype: object"
      ]
     },
     "execution_count": 29,
     "metadata": {},
     "output_type": "execute_result"
    }
   ],
   "source": [
    "df.dtypes"
   ]
  },
  {
   "cell_type": "markdown",
   "id": "7eff56f6-7e95-480a-9d7d-4acaf46ba640",
   "metadata": {},
   "source": [
    "# Exploratory Data Analysis"
   ]
  },
  {
   "cell_type": "markdown",
   "id": "9eb93d26-95c8-4704-9c6f-aed8a67bbfc3",
   "metadata": {},
   "source": [
    "## Univariate Analysis"
   ]
  },
  {
   "cell_type": "code",
   "execution_count": 144,
   "id": "5fa4ba5a-6a7a-4ce7-993f-62ca81c7266b",
   "metadata": {},
   "outputs": [],
   "source": [
    "df=df[df[\"Ad Supported\"]==\"Yes\"] # Considering only apps that suport ads"
   ]
  },
  {
   "cell_type": "code",
   "execution_count": 145,
   "id": "ea92e0d0-21c9-4a30-b1e0-cec3fd7151f0",
   "metadata": {},
   "outputs": [
    {
     "data": {
      "text/plain": [
       "Category\n",
       "BUSINESS                22\n",
       "MEDICAL                 25\n",
       "COMMUNICATION           34\n",
       "PRODUCTIVITY            34\n",
       "FINANCE                 38\n",
       "BOOKS_AND_REFERENCE     44\n",
       "LIFESTYLE               52\n",
       "PERSONALIZATION         62\n",
       "HEALTH_AND_FITNESS      63\n",
       "PHOTOGRAPHY             73\n",
       "SPORTS                  96\n",
       "TOOLS                  127\n",
       "GAME                   351\n",
       "FAMILY                 423\n",
       "Others                 764\n",
       "Name: count, dtype: int64"
      ]
     },
     "execution_count": 145,
     "metadata": {},
     "output_type": "execute_result"
    }
   ],
   "source": [
    "df[\"Category\"].value_counts().sort_values()"
   ]
  },
  {
   "cell_type": "code",
   "execution_count": 146,
   "id": "e91d8162-169b-42f5-bad6-e966abb61200",
   "metadata": {},
   "outputs": [
    {
     "data": {
      "image/png": "[encoded data removed]",
      "text/plain": [
       "<Figure size 640x480 with 1 Axes>"
      ]
     },
     "metadata": {},
     "output_type": "display_data"
    }
   ],
   "source": [
    "sns.countplot(data=df,y='Category')\n",
    "plt.title('Category Distribution')\n",
    "plt.xticks(rotation=90,ha=\"right\")\n",
    "plt.show()"
   ]
  },
  {
   "cell_type": "markdown",
   "id": "1f3e80ce-fa9a-4cc6-b465-7ec36b1b8b18",
   "metadata": {},
   "source": [
    "- Others is the highest category of app in google play store as over 700 apps fall under this category\n",
    "- Family game and tools top the app list on google play store after the others category\n",
    "- communication and book reference are the least category of apps found on google play store"
   ]
  },
  {
   "cell_type": "code",
   "execution_count": 147,
   "id": "42ae3138-ec32-4e03-96ec-3cc52cc2ebf0",
   "metadata": {},
   "outputs": [
    {
     "data": {
      "image/png": "[encoded data removed]",
      "text/plain": [
       "<Figure size 640x480 with 1 Axes>"
      ]
     },
     "metadata": {},
     "output_type": "display_data"
    },
    {
     "data": {
      "image/png": "[encoded data removed]",
      "text/plain": [
       "<Figure size 640x480 with 1 Axes>"
      ]
     },
     "metadata": {},
     "output_type": "display_data"
    }
   ],
   "source": [
    "sns.histplot(data = df, x = 'Rating',kde = True)\n",
    "plt.title('Rating Distribution')\n",
    "plt.show()\n",
    "\n",
    "sns.boxplot(data = df, x = 'Rating')\n",
    "plt.show()"
   ]
  },
  {
   "cell_type": "markdown",
   "id": "287dcb7b-97a9-4ecf-a911-ed59866eac9a",
   "metadata": {},
   "source": [
    "- Most of the apps are rated between 4.0-5.0\n",
    "- This is a left skewed data"
   ]
  },
  {
   "cell_type": "code",
   "execution_count": 148,
   "id": "7fdb59e1-e9cc-4a20-810e-df9545e133c0",
   "metadata": {},
   "outputs": [
    {
     "data": {
      "image/png": "[encoded data removed]",
      "text/plain": [
       "<Figure size 640x480 with 1 Axes>"
      ]
     },
     "metadata": {},
     "output_type": "display_data"
    },
    {
     "data": {
      "image/png": "[encoded data removed]",
      "text/plain": [
       "<Figure size 640x480 with 1 Axes>"
      ]
     },
     "metadata": {},
     "output_type": "display_data"
    }
   ],
   "source": [
    "sns.histplot(data = df, x = 'Reviews',bins = 10,kde = True)\n",
    "plt.title('Reviews Distribution')\n",
    "plt.show()\n",
    "sns.boxplot(data=df,x=\"Reviews\")\n",
    "plt.show()"
   ]
  },
  {
   "cell_type": "markdown",
   "id": "7880b671-2547-47d7-9664-348d50b745b8",
   "metadata": {},
   "source": [
    "- This data is rightly skewed\n",
    "- Most apps on google play store have low rewiews between 0-50000\n",
    "- There are outliers in this data as some categories tend to have more reviews than the others"
   ]
  },
  {
   "cell_type": "code",
   "execution_count": 53,
   "id": "abac97c5-819a-46e5-9f3b-e6288f321e90",
   "metadata": {},
   "outputs": [
    {
     "data": {
      "text/html": [
       "<div>\n",
       "<style scoped>\n",
       "    .dataframe tbody tr th:only-of-type {\n",
       "        vertical-align: middle;\n",
       "    }\n",
       "\n",
       "    .dataframe tbody tr th {\n",
       "        vertical-align: top;\n",
       "    }\n",
       "\n",
       "    .dataframe thead th {\n",
       "        text-align: right;\n",
       "    }\n",
       "</style>\n",
       "<table border=\"1\" class=\"dataframe\">\n",
       "  <thead>\n",
       "    <tr style=\"text-align: right;\">\n",
       "      <th></th>\n",
       "      <th>App</th>\n",
       "      <th>Category</th>\n",
       "      <th>Rating</th>\n",
       "      <th>Reviews</th>\n",
       "      <th>Size</th>\n",
       "      <th>Installs</th>\n",
       "      <th>Paid/Free</th>\n",
       "      <th>Price</th>\n",
       "      <th>Content Rating</th>\n",
       "      <th>Ad Supported</th>\n",
       "      <th>In App Purchases</th>\n",
       "      <th>Editors Choice</th>\n",
       "    </tr>\n",
       "  </thead>\n",
       "  <tbody>\n",
       "    <tr>\n",
       "      <th>0</th>\n",
       "      <td>War Dragons</td>\n",
       "      <td>Others</td>\n",
       "      <td>3.9</td>\n",
       "      <td>160604.0</td>\n",
       "      <td>270.0</td>\n",
       "      <td>10000000</td>\n",
       "      <td>Free</td>\n",
       "      <td>0.0</td>\n",
       "      <td>Everyone</td>\n",
       "      <td>Yes</td>\n",
       "      <td>Yes</td>\n",
       "      <td>Yes</td>\n",
       "    </tr>\n",
       "    <tr>\n",
       "      <th>1</th>\n",
       "      <td>CV-Library Job Search</td>\n",
       "      <td>BUSINESS</td>\n",
       "      <td>4.4</td>\n",
       "      <td>125.0</td>\n",
       "      <td>46.0</td>\n",
       "      <td>100000</td>\n",
       "      <td>Free</td>\n",
       "      <td>0.0</td>\n",
       "      <td>Everyone</td>\n",
       "      <td>No</td>\n",
       "      <td>No</td>\n",
       "      <td>No</td>\n",
       "    </tr>\n",
       "    <tr>\n",
       "      <th>2</th>\n",
       "      <td>Surah Al-Waqiah</td>\n",
       "      <td>BOOKS_AND_REFERENCE</td>\n",
       "      <td>4.4</td>\n",
       "      <td>1201.0</td>\n",
       "      <td>29.0</td>\n",
       "      <td>100000</td>\n",
       "      <td>Free</td>\n",
       "      <td>0.0</td>\n",
       "      <td>Everyone</td>\n",
       "      <td>Yes</td>\n",
       "      <td>No</td>\n",
       "      <td>No</td>\n",
       "    </tr>\n",
       "    <tr>\n",
       "      <th>3</th>\n",
       "      <td>Ay</td>\n",
       "      <td>Others</td>\n",
       "      <td>2.5</td>\n",
       "      <td>11.0</td>\n",
       "      <td>36.0</td>\n",
       "      <td>5000</td>\n",
       "      <td>Free</td>\n",
       "      <td>0.0</td>\n",
       "      <td>Teen</td>\n",
       "      <td>Yes</td>\n",
       "      <td>No</td>\n",
       "      <td>No</td>\n",
       "    </tr>\n",
       "    <tr>\n",
       "      <th>4</th>\n",
       "      <td>EA Plus</td>\n",
       "      <td>Others</td>\n",
       "      <td>4.3</td>\n",
       "      <td>12.0</td>\n",
       "      <td>12.0</td>\n",
       "      <td>1000</td>\n",
       "      <td>Free</td>\n",
       "      <td>0.0</td>\n",
       "      <td>Everyone</td>\n",
       "      <td>No</td>\n",
       "      <td>No</td>\n",
       "      <td>No</td>\n",
       "    </tr>\n",
       "  </tbody>\n",
       "</table>\n",
       "</div>"
      ],
      "text/plain": [
       "                     App             Category  Rating   Reviews   Size  \\\n",
       "0            War Dragons               Others     3.9  160604.0  270.0   \n",
       "1  CV-Library Job Search             BUSINESS     4.4     125.0   46.0   \n",
       "2        Surah Al-Waqiah  BOOKS_AND_REFERENCE     4.4    1201.0   29.0   \n",
       "3                     Ay               Others     2.5      11.0   36.0   \n",
       "4                EA Plus               Others     4.3      12.0   12.0   \n",
       "\n",
       "   Installs Paid/Free  Price Content Rating Ad Supported In App Purchases  \\\n",
       "0  10000000      Free    0.0       Everyone          Yes              Yes   \n",
       "1    100000      Free    0.0       Everyone           No               No   \n",
       "2    100000      Free    0.0       Everyone          Yes               No   \n",
       "3      5000      Free    0.0           Teen          Yes               No   \n",
       "4      1000      Free    0.0       Everyone           No               No   \n",
       "\n",
       "  Editors Choice  \n",
       "0            Yes  \n",
       "1             No  \n",
       "2             No  \n",
       "3             No  \n",
       "4             No  "
      ]
     },
     "execution_count": 53,
     "metadata": {},
     "output_type": "execute_result"
    }
   ],
   "source": [
    "df.head()"
   ]
  },
  {
   "cell_type": "code",
   "execution_count": 149,
   "id": "58ee2a59-3f0a-4f4b-9d19-8ba99a5218b4",
   "metadata": {},
   "outputs": [
    {
     "data": {
      "image/png": "[encoded data removed]",
      "text/plain": [
       "<Figure size 640x480 with 1 Axes>"
      ]
     },
     "metadata": {},
     "output_type": "display_data"
    },
    {
     "data": {
      "image/png": "[encoded data removed]",
      "text/plain": [
       "<Figure size 640x480 with 1 Axes>"
      ]
     },
     "metadata": {},
     "output_type": "display_data"
    }
   ],
   "source": [
    "sns.histplot(data = df, x = 'Size',bins = 10,kde = True)\n",
    "plt.title('Size Distribution')\n",
    "plt.show()\n",
    "\n",
    "sns.boxplot(data = df, x = 'Size')\n",
    "plt.show()"
   ]
  },
  {
   "cell_type": "code",
   "execution_count": 150,
   "id": "ce2b504a-3f01-44cb-b0f6-bf43bc6e97cd",
   "metadata": {},
   "outputs": [
    {
     "data": {
      "text/plain": [
       "Paid/Free\n",
       "Free    2167\n",
       "Paid      41\n",
       "Name: count, dtype: int64"
      ]
     },
     "execution_count": 150,
     "metadata": {},
     "output_type": "execute_result"
    }
   ],
   "source": [
    "df['Paid/Free'].value_counts()\n"
   ]
  },
  {
   "cell_type": "code",
   "execution_count": 151,
   "id": "5ffe28ec-f202-46ee-b6b4-f360de6cc220",
   "metadata": {},
   "outputs": [
    {
     "data": {
      "image/png": "[encoded data removed]",
      "text/plain": [
       "<Figure size 640x480 with 1 Axes>"
      ]
     },
     "metadata": {},
     "output_type": "display_data"
    }
   ],
   "source": [
    "sns.countplot(data = df, x = 'Paid/Free')\n",
    "plt.title('App Distribution  by Paid/Free')\n",
    "plt.show()"
   ]
  },
  {
   "cell_type": "markdown",
   "id": "5a1f8993-3f8d-4b30-9a99-2392123132d8",
   "metadata": {},
   "source": [
    "- Most of the apps on google play store are free"
   ]
  },
  {
   "cell_type": "code",
   "execution_count": 152,
   "id": "24bd3088-977c-49b1-adf8-79466f4ada42",
   "metadata": {},
   "outputs": [
    {
     "data": {
      "image/png": "[encoded data removed]",
      "text/plain": [
       "<Figure size 640x480 with 1 Axes>"
      ]
     },
     "metadata": {},
     "output_type": "display_data"
    }
   ],
   "source": [
    "sns.histplot(data=df,x=\"Price\",bins=10 )\n",
    "plt.title('Price Distribution')\n",
    "plt.show()"
   ]
  },
  {
   "cell_type": "markdown",
   "id": "980c9c18-3fd3-4dea-ab1d-5e0806b5e944",
   "metadata": {},
   "source": [
    "- Most of the apps on google play store are priced between 0-50 dollars"
   ]
  },
  {
   "cell_type": "code",
   "execution_count": 79,
   "id": "d1e2824e-657a-41d3-b735-e31f0b0d8297",
   "metadata": {},
   "outputs": [
    {
     "data": {
      "text/html": [
       "<div>\n",
       "<style scoped>\n",
       "    .dataframe tbody tr th:only-of-type {\n",
       "        vertical-align: middle;\n",
       "    }\n",
       "\n",
       "    .dataframe tbody tr th {\n",
       "        vertical-align: top;\n",
       "    }\n",
       "\n",
       "    .dataframe thead th {\n",
       "        text-align: right;\n",
       "    }\n",
       "</style>\n",
       "<table border=\"1\" class=\"dataframe\">\n",
       "  <thead>\n",
       "    <tr style=\"text-align: right;\">\n",
       "      <th></th>\n",
       "      <th>App</th>\n",
       "      <th>Category</th>\n",
       "      <th>Rating</th>\n",
       "      <th>Reviews</th>\n",
       "      <th>Size</th>\n",
       "      <th>Installs</th>\n",
       "      <th>Paid/Free</th>\n",
       "      <th>Price</th>\n",
       "      <th>Content Rating</th>\n",
       "      <th>Ad Supported</th>\n",
       "      <th>In App Purchases</th>\n",
       "      <th>Editors Choice</th>\n",
       "    </tr>\n",
       "  </thead>\n",
       "  <tbody>\n",
       "    <tr>\n",
       "      <th>0</th>\n",
       "      <td>War Dragons</td>\n",
       "      <td>Others</td>\n",
       "      <td>3.9</td>\n",
       "      <td>160604.0</td>\n",
       "      <td>270.0</td>\n",
       "      <td>10000000</td>\n",
       "      <td>Free</td>\n",
       "      <td>0.0</td>\n",
       "      <td>Everyone</td>\n",
       "      <td>Yes</td>\n",
       "      <td>Yes</td>\n",
       "      <td>Yes</td>\n",
       "    </tr>\n",
       "    <tr>\n",
       "      <th>1</th>\n",
       "      <td>CV-Library Job Search</td>\n",
       "      <td>BUSINESS</td>\n",
       "      <td>4.4</td>\n",
       "      <td>125.0</td>\n",
       "      <td>46.0</td>\n",
       "      <td>100000</td>\n",
       "      <td>Free</td>\n",
       "      <td>0.0</td>\n",
       "      <td>Everyone</td>\n",
       "      <td>No</td>\n",
       "      <td>No</td>\n",
       "      <td>No</td>\n",
       "    </tr>\n",
       "    <tr>\n",
       "      <th>2</th>\n",
       "      <td>Surah Al-Waqiah</td>\n",
       "      <td>BOOKS_AND_REFERENCE</td>\n",
       "      <td>4.4</td>\n",
       "      <td>1201.0</td>\n",
       "      <td>29.0</td>\n",
       "      <td>100000</td>\n",
       "      <td>Free</td>\n",
       "      <td>0.0</td>\n",
       "      <td>Everyone</td>\n",
       "      <td>Yes</td>\n",
       "      <td>No</td>\n",
       "      <td>No</td>\n",
       "    </tr>\n",
       "    <tr>\n",
       "      <th>3</th>\n",
       "      <td>Ay</td>\n",
       "      <td>Others</td>\n",
       "      <td>2.5</td>\n",
       "      <td>11.0</td>\n",
       "      <td>36.0</td>\n",
       "      <td>5000</td>\n",
       "      <td>Free</td>\n",
       "      <td>0.0</td>\n",
       "      <td>Teen</td>\n",
       "      <td>Yes</td>\n",
       "      <td>No</td>\n",
       "      <td>No</td>\n",
       "    </tr>\n",
       "    <tr>\n",
       "      <th>4</th>\n",
       "      <td>EA Plus</td>\n",
       "      <td>Others</td>\n",
       "      <td>4.3</td>\n",
       "      <td>12.0</td>\n",
       "      <td>12.0</td>\n",
       "      <td>1000</td>\n",
       "      <td>Free</td>\n",
       "      <td>0.0</td>\n",
       "      <td>Everyone</td>\n",
       "      <td>No</td>\n",
       "      <td>No</td>\n",
       "      <td>No</td>\n",
       "    </tr>\n",
       "  </tbody>\n",
       "</table>\n",
       "</div>"
      ],
      "text/plain": [
       "                     App             Category  Rating   Reviews   Size  \\\n",
       "0            War Dragons               Others     3.9  160604.0  270.0   \n",
       "1  CV-Library Job Search             BUSINESS     4.4     125.0   46.0   \n",
       "2        Surah Al-Waqiah  BOOKS_AND_REFERENCE     4.4    1201.0   29.0   \n",
       "3                     Ay               Others     2.5      11.0   36.0   \n",
       "4                EA Plus               Others     4.3      12.0   12.0   \n",
       "\n",
       "   Installs Paid/Free  Price Content Rating Ad Supported In App Purchases  \\\n",
       "0  10000000      Free    0.0       Everyone          Yes              Yes   \n",
       "1    100000      Free    0.0       Everyone           No               No   \n",
       "2    100000      Free    0.0       Everyone          Yes               No   \n",
       "3      5000      Free    0.0           Teen          Yes               No   \n",
       "4      1000      Free    0.0       Everyone           No               No   \n",
       "\n",
       "  Editors Choice  \n",
       "0            Yes  \n",
       "1             No  \n",
       "2             No  \n",
       "3             No  \n",
       "4             No  "
      ]
     },
     "execution_count": 79,
     "metadata": {},
     "output_type": "execute_result"
    }
   ],
   "source": [
    "df.head()"
   ]
  },
  {
   "cell_type": "code",
   "execution_count": 153,
   "id": "7df56336-081b-404c-bc96-7dfc750dbde8",
   "metadata": {},
   "outputs": [
    {
     "data": {
      "text/plain": [
       "Content Rating\n",
       "Everyone        1623\n",
       "Teen             342\n",
       "Everyone 10+     152\n",
       "Mature 17+        91\n",
       "Name: count, dtype: int64"
      ]
     },
     "execution_count": 153,
     "metadata": {},
     "output_type": "execute_result"
    }
   ],
   "source": [
    "df['Content Rating'].value_counts()"
   ]
  },
  {
   "cell_type": "code",
   "execution_count": 87,
   "id": "b4b26fac-ab80-496b-97f2-2760e8f43e71",
   "metadata": {},
   "outputs": [
    {
     "data": {
      "image/png": "[encoded data removed]",
      "text/plain": [
       "<Figure size 640x480 with 1 Axes>"
      ]
     },
     "metadata": {},
     "output_type": "display_data"
    }
   ],
   "source": [
    "sns.countplot(data=df,x=\"Content Rating\")\n",
    "plt.title('App Distribution by Content Rating')\n",
    "plt.show()"
   ]
  },
  {
   "cell_type": "markdown",
   "id": "8c1939d6-d78d-4539-bcde-7df86d2da973",
   "metadata": {},
   "source": [
    "- Most of the apps on google playstore are rated \"everyone\"\n",
    "- Mature17+ is the least rated app on google play store"
   ]
  },
  {
   "cell_type": "markdown",
   "id": "fe907412-ff39-4d5b-97d2-92452217d7f7",
   "metadata": {},
   "source": [
    "- Most apps support ads on google play store"
   ]
  },
  {
   "cell_type": "code",
   "execution_count": 156,
   "id": "9fe49aae-cc1c-453e-a63a-0a2ce0b35ff3",
   "metadata": {},
   "outputs": [
    {
     "data": {
      "text/plain": [
       "In App Purchases\n",
       "Yes    1142\n",
       "No     1066\n",
       "Name: count, dtype: int64"
      ]
     },
     "execution_count": 156,
     "metadata": {},
     "output_type": "execute_result"
    }
   ],
   "source": [
    "df['In App Purchases'].value_counts()"
   ]
  },
  {
   "cell_type": "code",
   "execution_count": 157,
   "id": "dd0fa79b-d805-4cc4-b3af-e9167c0249a7",
   "metadata": {},
   "outputs": [
    {
     "data": {
      "image/png": "[encoded data removed]",
      "text/plain": [
       "<Figure size 640x480 with 1 Axes>"
      ]
     },
     "metadata": {},
     "output_type": "display_data"
    }
   ],
   "source": [
    "sns.countplot(data=df,x=\"In App Purchases\")\n",
    "plt.title('App Distribution by In App Purchase')\n",
    "plt.show()"
   ]
  },
  {
   "cell_type": "markdown",
   "id": "d4205261-9583-46f4-8eb1-3673550f0ed6",
   "metadata": {},
   "source": [
    "- Most app on google play store do not support in app purchases"
   ]
  },
  {
   "cell_type": "code",
   "execution_count": 135,
   "id": "fadf799d-c010-4df0-96a5-34a81406909f",
   "metadata": {},
   "outputs": [
    {
     "data": {
      "text/plain": [
       "Editors Choice\n",
       "No     3304\n",
       "Yes     849\n",
       "Name: count, dtype: int64"
      ]
     },
     "execution_count": 135,
     "metadata": {},
     "output_type": "execute_result"
    }
   ],
   "source": [
    "df['Editors Choice'].value_counts()"
   ]
  },
  {
   "cell_type": "code",
   "execution_count": 96,
   "id": "f3e46910-bb44-4873-9505-ab83f412fe00",
   "metadata": {},
   "outputs": [
    {
     "data": {
      "image/png": "[encoded data removed]",
      "text/plain": [
       "<Figure size 640x480 with 1 Axes>"
      ]
     },
     "metadata": {},
     "output_type": "display_data"
    }
   ],
   "source": [
    "sns.countplot(data=df,x=\"Editors Choice\")\n",
    "plt.title('App Distribution by Editors Choice')\n",
    "plt.show()"
   ]
  },
  {
   "cell_type": "markdown",
   "id": "f4026948-5ad7-4caf-b7f2-5c844582c025",
   "metadata": {},
   "source": [
    "- Most apps on google play store are not rated as Editors Choice"
   ]
  },
  {
   "cell_type": "markdown",
   "id": "857aade3-e3c0-4ef5-951a-3c6115daa052",
   "metadata": {},
   "source": [
    "## BIVARATE ANALYSIS"
   ]
  },
  {
   "cell_type": "code",
   "execution_count": 99,
   "id": "74596b01-829b-42ee-ac90-122972841e5d",
   "metadata": {},
   "outputs": [
    {
     "data": {
      "text/html": [
       "<div>\n",
       "<style scoped>\n",
       "    .dataframe tbody tr th:only-of-type {\n",
       "        vertical-align: middle;\n",
       "    }\n",
       "\n",
       "    .dataframe tbody tr th {\n",
       "        vertical-align: top;\n",
       "    }\n",
       "\n",
       "    .dataframe thead th {\n",
       "        text-align: right;\n",
       "    }\n",
       "</style>\n",
       "<table border=\"1\" class=\"dataframe\">\n",
       "  <thead>\n",
       "    <tr style=\"text-align: right;\">\n",
       "      <th></th>\n",
       "      <th>App</th>\n",
       "      <th>Category</th>\n",
       "      <th>Rating</th>\n",
       "      <th>Reviews</th>\n",
       "      <th>Size</th>\n",
       "      <th>Installs</th>\n",
       "      <th>Paid/Free</th>\n",
       "      <th>Price</th>\n",
       "      <th>Content Rating</th>\n",
       "      <th>Ad Supported</th>\n",
       "      <th>In App Purchases</th>\n",
       "      <th>Editors Choice</th>\n",
       "    </tr>\n",
       "  </thead>\n",
       "  <tbody>\n",
       "    <tr>\n",
       "      <th>0</th>\n",
       "      <td>War Dragons</td>\n",
       "      <td>Others</td>\n",
       "      <td>3.9</td>\n",
       "      <td>160604.0</td>\n",
       "      <td>270.0</td>\n",
       "      <td>10000000</td>\n",
       "      <td>Free</td>\n",
       "      <td>0.0</td>\n",
       "      <td>Everyone</td>\n",
       "      <td>Yes</td>\n",
       "      <td>Yes</td>\n",
       "      <td>Yes</td>\n",
       "    </tr>\n",
       "    <tr>\n",
       "      <th>2</th>\n",
       "      <td>Surah Al-Waqiah</td>\n",
       "      <td>BOOKS_AND_REFERENCE</td>\n",
       "      <td>4.4</td>\n",
       "      <td>1201.0</td>\n",
       "      <td>29.0</td>\n",
       "      <td>100000</td>\n",
       "      <td>Free</td>\n",
       "      <td>0.0</td>\n",
       "      <td>Everyone</td>\n",
       "      <td>Yes</td>\n",
       "      <td>No</td>\n",
       "      <td>No</td>\n",
       "    </tr>\n",
       "    <tr>\n",
       "      <th>3</th>\n",
       "      <td>Ay</td>\n",
       "      <td>Others</td>\n",
       "      <td>2.5</td>\n",
       "      <td>11.0</td>\n",
       "      <td>36.0</td>\n",
       "      <td>5000</td>\n",
       "      <td>Free</td>\n",
       "      <td>0.0</td>\n",
       "      <td>Teen</td>\n",
       "      <td>Yes</td>\n",
       "      <td>No</td>\n",
       "      <td>No</td>\n",
       "    </tr>\n",
       "    <tr>\n",
       "      <th>6</th>\n",
       "      <td>SAMURAI vs ZOMBIES DEFENSE</td>\n",
       "      <td>GAME</td>\n",
       "      <td>4.5</td>\n",
       "      <td>312204.0</td>\n",
       "      <td>19.0</td>\n",
       "      <td>5000000</td>\n",
       "      <td>Free</td>\n",
       "      <td>0.0</td>\n",
       "      <td>Everyone</td>\n",
       "      <td>Yes</td>\n",
       "      <td>Yes</td>\n",
       "      <td>No</td>\n",
       "    </tr>\n",
       "    <tr>\n",
       "      <th>8</th>\n",
       "      <td>Draw In</td>\n",
       "      <td>GAME</td>\n",
       "      <td>4.2</td>\n",
       "      <td>46416.0</td>\n",
       "      <td>73.0</td>\n",
       "      <td>10000000</td>\n",
       "      <td>Free</td>\n",
       "      <td>0.0</td>\n",
       "      <td>Everyone</td>\n",
       "      <td>Yes</td>\n",
       "      <td>Yes</td>\n",
       "      <td>No</td>\n",
       "    </tr>\n",
       "    <tr>\n",
       "      <th>9</th>\n",
       "      <td>PUBG MOBILE LITE</td>\n",
       "      <td>Others</td>\n",
       "      <td>4.2</td>\n",
       "      <td>312204.0</td>\n",
       "      <td>270.0</td>\n",
       "      <td>19970000</td>\n",
       "      <td>Free</td>\n",
       "      <td>0.0</td>\n",
       "      <td>Teen</td>\n",
       "      <td>Yes</td>\n",
       "      <td>No</td>\n",
       "      <td>Yes</td>\n",
       "    </tr>\n",
       "    <tr>\n",
       "      <th>10</th>\n",
       "      <td>Fernanfloo</td>\n",
       "      <td>GAME</td>\n",
       "      <td>4.8</td>\n",
       "      <td>312204.0</td>\n",
       "      <td>49.0</td>\n",
       "      <td>10000000</td>\n",
       "      <td>Free</td>\n",
       "      <td>0.0</td>\n",
       "      <td>Everyone 10+</td>\n",
       "      <td>Yes</td>\n",
       "      <td>Yes</td>\n",
       "      <td>No</td>\n",
       "    </tr>\n",
       "    <tr>\n",
       "      <th>11</th>\n",
       "      <td>GUN ZOMBIE</td>\n",
       "      <td>GAME</td>\n",
       "      <td>4.4</td>\n",
       "      <td>243121.0</td>\n",
       "      <td>38.0</td>\n",
       "      <td>5000000</td>\n",
       "      <td>Free</td>\n",
       "      <td>0.0</td>\n",
       "      <td>Teen</td>\n",
       "      <td>Yes</td>\n",
       "      <td>Yes</td>\n",
       "      <td>No</td>\n",
       "    </tr>\n",
       "    <tr>\n",
       "      <th>12</th>\n",
       "      <td>Connect'Em Halloween</td>\n",
       "      <td>FAMILY</td>\n",
       "      <td>4.5</td>\n",
       "      <td>6673.0</td>\n",
       "      <td>44.0</td>\n",
       "      <td>500000</td>\n",
       "      <td>Free</td>\n",
       "      <td>0.0</td>\n",
       "      <td>Everyone</td>\n",
       "      <td>Yes</td>\n",
       "      <td>No</td>\n",
       "      <td>No</td>\n",
       "    </tr>\n",
       "    <tr>\n",
       "      <th>13</th>\n",
       "      <td>Happy Birthday Songs Offline</td>\n",
       "      <td>Others</td>\n",
       "      <td>4.4</td>\n",
       "      <td>464.0</td>\n",
       "      <td>89.0</td>\n",
       "      <td>100000</td>\n",
       "      <td>Free</td>\n",
       "      <td>0.0</td>\n",
       "      <td>Everyone</td>\n",
       "      <td>Yes</td>\n",
       "      <td>No</td>\n",
       "      <td>No</td>\n",
       "    </tr>\n",
       "  </tbody>\n",
       "</table>\n",
       "</div>"
      ],
      "text/plain": [
       "                             App             Category  Rating   Reviews  \\\n",
       "0                    War Dragons               Others     3.9  160604.0   \n",
       "2                Surah Al-Waqiah  BOOKS_AND_REFERENCE     4.4    1201.0   \n",
       "3                             Ay               Others     2.5      11.0   \n",
       "6     SAMURAI vs ZOMBIES DEFENSE                 GAME     4.5  312204.0   \n",
       "8                        Draw In                 GAME     4.2   46416.0   \n",
       "9               PUBG MOBILE LITE               Others     4.2  312204.0   \n",
       "10                    Fernanfloo                 GAME     4.8  312204.0   \n",
       "11                    GUN ZOMBIE                 GAME     4.4  243121.0   \n",
       "12          Connect'Em Halloween               FAMILY     4.5    6673.0   \n",
       "13  Happy Birthday Songs Offline               Others     4.4     464.0   \n",
       "\n",
       "     Size  Installs Paid/Free  Price Content Rating Ad Supported  \\\n",
       "0   270.0  10000000      Free    0.0       Everyone          Yes   \n",
       "2    29.0    100000      Free    0.0       Everyone          Yes   \n",
       "3    36.0      5000      Free    0.0           Teen          Yes   \n",
       "6    19.0   5000000      Free    0.0       Everyone          Yes   \n",
       "8    73.0  10000000      Free    0.0       Everyone          Yes   \n",
       "9   270.0  19970000      Free    0.0           Teen          Yes   \n",
       "10   49.0  10000000      Free    0.0   Everyone 10+          Yes   \n",
       "11   38.0   5000000      Free    0.0           Teen          Yes   \n",
       "12   44.0    500000      Free    0.0       Everyone          Yes   \n",
       "13   89.0    100000      Free    0.0       Everyone          Yes   \n",
       "\n",
       "   In App Purchases Editors Choice  \n",
       "0               Yes            Yes  \n",
       "2                No             No  \n",
       "3                No             No  \n",
       "6               Yes             No  \n",
       "8               Yes             No  \n",
       "9                No            Yes  \n",
       "10              Yes             No  \n",
       "11              Yes             No  \n",
       "12               No             No  \n",
       "13               No             No  "
      ]
     },
     "execution_count": 99,
     "metadata": {},
     "output_type": "execute_result"
    }
   ],
   "source": [
    "df1.head(10)"
   ]
  },
  {
   "cell_type": "code",
   "execution_count": 158,
   "id": "b0b65d42-229d-4357-8116-60531bd9fbe2",
   "metadata": {},
   "outputs": [
    {
     "name": "stderr",
     "output_type": "stream",
     "text": [
      "C:\\Users\\User\\AppData\\Local\\Temp\\ipykernel_2496\\323291680.py:1: FutureWarning: The default of observed=False is deprecated and will be changed to True in a future version of pandas. Pass observed=False to retain current behavior or observed=True to adopt the future default and silence this warning.\n",
      "  df.groupby('Category')[\"Rating\"].mean()\n"
     ]
    },
    {
     "data": {
      "text/plain": [
       "Category\n",
       "BOOKS_AND_REFERENCE    4.390909\n",
       "BUSINESS               4.400000\n",
       "COMMUNICATION          4.135294\n",
       "FAMILY                 4.220095\n",
       "FINANCE                4.297368\n",
       "GAME                   4.282906\n",
       "HEALTH_AND_FITNESS     4.452381\n",
       "LIFESTYLE              4.198077\n",
       "MEDICAL                4.308000\n",
       "Others                 4.266492\n",
       "PERSONALIZATION        4.279032\n",
       "PHOTOGRAPHY            4.206849\n",
       "PRODUCTIVITY           4.205882\n",
       "SPORTS                 4.220833\n",
       "TOOLS                  4.156693\n",
       "Name: Rating, dtype: float64"
      ]
     },
     "execution_count": 158,
     "metadata": {},
     "output_type": "execute_result"
    }
   ],
   "source": [
    "df.groupby('Category')[\"Rating\"].mean()"
   ]
  },
  {
   "cell_type": "code",
   "execution_count": 159,
   "id": "70a5020f-70e1-4657-a694-924d407a2113",
   "metadata": {},
   "outputs": [
    {
     "data": {
      "image/png": "[encoded data removed]",
      "text/plain": [
       "<Figure size 800x400 with 1 Axes>"
      ]
     },
     "metadata": {},
     "output_type": "display_data"
    }
   ],
   "source": [
    "plt.figure(figsize = (8,4)) # the first is the width size and the second the height size\n",
    "sns.barplot(data=df,x=\"Category\",y=\"Rating\")\n",
    "plt.xticks(rotation = 90, ha = 'right')\n",
    "plt.title('Average Rating Distribution by Category')\n",
    "plt.show()"
   ]
  },
  {
   "cell_type": "markdown",
   "id": "dc52cafe-3268-4015-a986-81e312f3c9e1",
   "metadata": {},
   "source": [
    "- All categories have average rating above 4.0"
   ]
  },
  {
   "cell_type": "code",
   "execution_count": 160,
   "id": "011d309e-1f6b-425a-a292-8f7a718adb6d",
   "metadata": {},
   "outputs": [
    {
     "data": {
      "image/png": "[encoded data removed]",
      "text/plain": [
       "<Figure size 640x480 with 1 Axes>"
      ]
     },
     "metadata": {},
     "output_type": "display_data"
    }
   ],
   "source": [
    "sns.countplot(data=df1,x=\"Category\",hue=\"Paid/Free\")\n",
    "plt.xticks(rotation=45, ha='right')\n",
    "plt.show()"
   ]
  },
  {
   "cell_type": "markdown",
   "id": "6e489cb5-ee39-41e2-8c09-e7e3a1235322",
   "metadata": {},
   "source": [
    "- Most apps that support ads on google play store are free\n",
    "- Across all Categories, Family apps have the highest number of paid apps\n",
    "- Books and reference, business communication, are entirely free on google play store"
   ]
  },
  {
   "cell_type": "code",
   "execution_count": 161,
   "id": "7640c3e4-9794-43ca-a0bf-ea103c0196a9",
   "metadata": {},
   "outputs": [],
   "source": [
    "df2 = df1.corr(numeric_only = True)"
   ]
  },
  {
   "cell_type": "code",
   "execution_count": 162,
   "id": "b38b670c-34ac-4ce8-8cf6-9023c6e62276",
   "metadata": {},
   "outputs": [
    {
     "data": {
      "image/png": "[encoded data removed]",
      "text/plain": [
       "<Figure size 640x480 with 2 Axes>"
      ]
     },
     "metadata": {},
     "output_type": "display_data"
    }
   ],
   "source": [
    "sns.heatmap( df2,annot = True)\n",
    "plt.show()"
   ]
  },
  {
   "cell_type": "markdown",
   "id": "9529e376-4f3d-490f-9f16-1c326d8dfa40",
   "metadata": {},
   "source": [
    "- Installs & Reviews has a Strong positive correlation"
   ]
  },
  {
   "cell_type": "markdown",
   "id": "2ff47719-ba89-42ab-97bd-cb45f20a7647",
   "metadata": {},
   "source": [
    "## Conclusion\n",
    "- The dataset contains **16 categories**, with most apps belonging to the **Other** category.  \n",
    "- **Games, Family, and Tools** categories also have a high number of apps on the Play Store.  \n",
    "- Most apps on the Play Store are **free**, while paid apps are usually priced between **$0–$50**.  \n",
    "- **Everyone** is the most common content rating, while **Mature 17+** has the least.  \n",
    "- Free apps tend to have **more installs** compared to paid apps.  \n",
    "- Most apps do not have an **Editor’s Choice** rating.  \n",
    "- There is a **strong correlation** between the number of reviews and installs.  \n",
    "\n",
    "## Recommendations\n",
    "- **Zoom Ads** should focus their advertisements on apps in the **Family, Other, Tools, and Games** categories, as they dominate the Play Store.  \n",
    "- Since the majority of apps are **free**, ad investments should primarily target free apps.  \n",
    "- If considering **paid apps**, focus on those in the **Family** and **Games** categories, as they are more popular.  \n",
    "- Avoid investing in apps with a **Mature 17+** content rating, as they represent a very small share of the market.  \n"
   ]
  },
  {
   "cell_type": "code",
   "execution_count": null,
   "id": "59fdab6b-b723-447d-a1e4-cb83c559d9de",
   "metadata": {},
   "outputs": [],
   "source": []
  }
 ],
 "metadata": {
  "kernelspec": {
   "display_name": "Python 3 (ipykernel)",
   "language": "python",
   "name": "python3"
  },
  "language_info": {
   "codemirror_mode": {
    "name": "ipython",
    "version": 3
   },
   "file_extension": ".py",
   "mimetype": "text/x-python",
   "name": "python",
   "nbconvert_exporter": "python",
   "pygments_lexer": "ipython3",
   "version": "3.13.6"
  }
 },
 "nbformat": 4,
 "nbformat_minor": 5
}
